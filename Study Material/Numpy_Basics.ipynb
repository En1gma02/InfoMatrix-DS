{
  "metadata": {
    "kernelspec": {
      "display_name": "Python 3",
      "language": "python",
      "name": "python3"
    },
    "language_info": {
      "name": "python",
      "version": "3.6.4",
      "mimetype": "text/x-python",
      "codemirror_mode": {
        "name": "ipython",
        "version": 3
      },
      "pygments_lexer": "ipython3",
      "nbconvert_exporter": "python",
      "file_extension": ".py"
    },
    "kaggle": {
      "accelerator": "none",
      "dataSources": [],
      "dockerImageVersionId": 25114,
      "isInternetEnabled": false,
      "language": "python",
      "sourceType": "notebook",
      "isGpuEnabled": false
    },
    "colab": {
      "provenance": []
    }
  },
  "nbformat_minor": 0,
  "nbformat": 4,
  "cells": [
    {
      "cell_type": "markdown",
      "source": [
        "# Introduction"
      ],
      "metadata": {
        "id": "-O5snQs_J2PX"
      }
    },
    {
      "cell_type": "markdown",
      "source": [
        "If there are any recommendations/changes you would like to see in this notebook, please leave a comment. Any feedback/constructive criticism would be genuinely appreciated.\n",
        "\n",
        "This notebook is always a work in progress. So, please stay tuned for more to come.\n",
        "\n",
        "If you like this notebook or find this notebook helpful, Please feel free to **UPVOTE** and/or leave a comment."
      ],
      "metadata": {
        "id": "z7iBelVmJC4e"
      }
    },
    {
      "cell_type": "markdown",
      "source": [
        "# About Numpy"
      ],
      "metadata": {
        "id": "SDXyCNUoJC4l"
      }
    },
    {
      "cell_type": "markdown",
      "source": [
        "NumPy (or Numpy) is a Linear Algebra Library for Python, the reason it is so important for Data Science with Python is that almost all of the libraries in the PyData Ecosystem rely on NumPy as one of their main building blocks.\n",
        "\n",
        "Numpy is also incredibly fast, as it has bindings to C libraries. For more info on why you would want to use Arrays instead of lists, check out this great [StackOverflow post](http://stackoverflow.com/questions/993984/why-numpy-instead-of-python-lists)."
      ],
      "metadata": {
        "id": "2lOD7dqIJC4n"
      }
    },
    {
      "cell_type": "markdown",
      "source": [
        "# Using Numpy"
      ],
      "metadata": {
        "id": "uLkztpNeJC4p"
      }
    },
    {
      "cell_type": "code",
      "source": [
        "# Once you've installed NumPy you can import it as a library:\n",
        "import numpy as np"
      ],
      "metadata": {
        "trusted": true,
        "id": "JrPN4SRqJC4q"
      },
      "execution_count": null,
      "outputs": []
    },
    {
      "cell_type": "markdown",
      "source": [
        "Numpy has many built-in functions and capabilities. We won't cover them all but instead we will focus on some of the most important aspects of Numpy: vectors,arrays,matrices, and number generation. Let's start by discussing arrays.\n",
        "\n",
        "### Numpy Arrays\n",
        "\n",
        "NumPy arrays are the main way we will use Numpy throughout the course. Numpy arrays essentially come in two flavors: vectors and matrices. Vectors are strictly 1-d arrays and matrices are 2-d (but you should note a matrix can still have only one row or one column).\n",
        "\n",
        "Let's begin our introduction by exploring how to create NumPy arrays.\n",
        "\n",
        "# Creating NumPy Arrays\n",
        "\n",
        "### From a Python List\n",
        "\n",
        "We can create an array by directly converting a list or list of lists:"
      ],
      "metadata": {
        "id": "7ia74qeTJC4r"
      }
    },
    {
      "cell_type": "code",
      "source": [
        "my_list = [1,2,3]\n",
        "my_list"
      ],
      "metadata": {
        "trusted": true,
        "id": "IxfwPSHpJC4s",
        "outputId": "94b5145b-3ce8-4850-e716-9c499e48641e",
        "colab": {
          "base_uri": "https://localhost:8080/"
        }
      },
      "execution_count": null,
      "outputs": [
        {
          "output_type": "execute_result",
          "data": {
            "text/plain": [
              "[1, 2, 3]"
            ]
          },
          "metadata": {},
          "execution_count": 2
        }
      ]
    },
    {
      "cell_type": "code",
      "source": [
        "np.array(my_list)"
      ],
      "metadata": {
        "trusted": true,
        "id": "YapQ7ewOJC4t",
        "outputId": "222d6010-06f4-4294-ebf8-e938ad48e989",
        "colab": {
          "base_uri": "https://localhost:8080/"
        }
      },
      "execution_count": null,
      "outputs": [
        {
          "output_type": "execute_result",
          "data": {
            "text/plain": [
              "array([1, 2, 3])"
            ]
          },
          "metadata": {},
          "execution_count": 3
        }
      ]
    },
    {
      "cell_type": "code",
      "source": [
        "my_matrix = [[1,2,3],[4,5,6],[7,8,9]]\n",
        "my_matrix"
      ],
      "metadata": {
        "trusted": true,
        "id": "nvqy8SKaJC4u",
        "outputId": "81600bf1-02d7-4d09-81b3-7c474134c7da",
        "colab": {
          "base_uri": "https://localhost:8080/"
        }
      },
      "execution_count": null,
      "outputs": [
        {
          "output_type": "execute_result",
          "data": {
            "text/plain": [
              "[[1, 2, 3], [4, 5, 6], [7, 8, 9]]"
            ]
          },
          "metadata": {},
          "execution_count": 4
        }
      ]
    },
    {
      "cell_type": "code",
      "source": [
        "np.array(my_matrix)"
      ],
      "metadata": {
        "trusted": true,
        "id": "OLlYXo-qJC4v",
        "outputId": "862018fb-50d8-4b50-bf7e-0bf73fcb289e",
        "colab": {
          "base_uri": "https://localhost:8080/"
        }
      },
      "execution_count": null,
      "outputs": [
        {
          "output_type": "execute_result",
          "data": {
            "text/plain": [
              "array([[1, 2, 3],\n",
              "       [4, 5, 6],\n",
              "       [7, 8, 9]])"
            ]
          },
          "metadata": {},
          "execution_count": 5
        }
      ]
    },
    {
      "cell_type": "markdown",
      "source": [
        "# Built-in Methods\n",
        "\n",
        "There are lots of built-in ways to generate Arrays"
      ],
      "metadata": {
        "id": "O60bNHcdJC4w"
      }
    },
    {
      "cell_type": "markdown",
      "source": [
        "### arange\n",
        "\n",
        "Return evenly spaced values within a given interval."
      ],
      "metadata": {
        "id": "9so66O6WJC4w"
      }
    },
    {
      "cell_type": "code",
      "source": [
        "np.arange(-10, -5,)"
      ],
      "metadata": {
        "trusted": true,
        "id": "xUAwxJgMJC4x",
        "outputId": "fdc74cc4-f1fd-444c-f520-2163617cd9e9",
        "colab": {
          "base_uri": "https://localhost:8080/"
        }
      },
      "execution_count": null,
      "outputs": [
        {
          "output_type": "execute_result",
          "data": {
            "text/plain": [
              "array([-10,  -9,  -8,  -7,  -6])"
            ]
          },
          "metadata": {},
          "execution_count": 89
        }
      ]
    },
    {
      "cell_type": "code",
      "source": [
        "np.arange(0,13,3)"
      ],
      "metadata": {
        "trusted": true,
        "id": "zW782XVNJC4x",
        "outputId": "64772507-ccc5-45bf-fc14-81480f56a0e4",
        "colab": {
          "base_uri": "https://localhost:8080/"
        }
      },
      "execution_count": null,
      "outputs": [
        {
          "output_type": "execute_result",
          "data": {
            "text/plain": [
              "array([ 0,  3,  6,  9, 12])"
            ]
          },
          "metadata": {},
          "execution_count": 4
        }
      ]
    },
    {
      "cell_type": "markdown",
      "source": [
        "### zeros and ones\n",
        "\n",
        "Generate arrays of zeros or ones"
      ],
      "metadata": {
        "id": "7dWCSwaeJC4x"
      }
    },
    {
      "cell_type": "code",
      "source": [
        "np.zeros(3)"
      ],
      "metadata": {
        "trusted": true,
        "id": "Jl_f4u1RJC4y",
        "outputId": "5ac3eb28-5c28-4472-c3e3-e8941993c2e0",
        "colab": {
          "base_uri": "https://localhost:8080/"
        }
      },
      "execution_count": null,
      "outputs": [
        {
          "output_type": "execute_result",
          "data": {
            "text/plain": [
              "array([0., 0., 0.])"
            ]
          },
          "metadata": {},
          "execution_count": 8
        }
      ]
    },
    {
      "cell_type": "code",
      "source": [
        "np.zeros((5,5))"
      ],
      "metadata": {
        "trusted": true,
        "id": "z0S6uxURJC4y",
        "outputId": "ed3ebdb8-3c45-42c1-9399-a31e2afaa34a",
        "colab": {
          "base_uri": "https://localhost:8080/"
        }
      },
      "execution_count": null,
      "outputs": [
        {
          "output_type": "execute_result",
          "data": {
            "text/plain": [
              "array([[0., 0., 0., 0., 0.],\n",
              "       [0., 0., 0., 0., 0.],\n",
              "       [0., 0., 0., 0., 0.],\n",
              "       [0., 0., 0., 0., 0.],\n",
              "       [0., 0., 0., 0., 0.]])"
            ]
          },
          "metadata": {},
          "execution_count": 9
        }
      ]
    },
    {
      "cell_type": "code",
      "source": [
        "np.ones(3)"
      ],
      "metadata": {
        "trusted": true,
        "id": "fhknYJ7pJC4y",
        "outputId": "6202144e-c02f-4dd6-8573-a8ff59dc30ee",
        "colab": {
          "base_uri": "https://localhost:8080/"
        }
      },
      "execution_count": null,
      "outputs": [
        {
          "output_type": "execute_result",
          "data": {
            "text/plain": [
              "array([1., 1., 1.])"
            ]
          },
          "metadata": {},
          "execution_count": 10
        }
      ]
    },
    {
      "cell_type": "code",
      "source": [
        "np.ones((3,3))"
      ],
      "metadata": {
        "trusted": true,
        "id": "6sPbaexKJC4z",
        "outputId": "ed8202d2-46ed-4b2d-9ac6-9a1be2c5f053",
        "colab": {
          "base_uri": "https://localhost:8080/"
        }
      },
      "execution_count": null,
      "outputs": [
        {
          "output_type": "execute_result",
          "data": {
            "text/plain": [
              "array([[1., 1., 1.],\n",
              "       [1., 1., 1.],\n",
              "       [1., 1., 1.]])"
            ]
          },
          "metadata": {},
          "execution_count": 11
        }
      ]
    },
    {
      "cell_type": "markdown",
      "source": [
        "### linspace\n",
        "Return evenly spaced numbers over a specified interval."
      ],
      "metadata": {
        "id": "cqANarNDJC4z"
      }
    },
    {
      "cell_type": "code",
      "source": [
        "np.linspace(0,10,3)"
      ],
      "metadata": {
        "trusted": true,
        "id": "obY_hMBHJC4z",
        "outputId": "9c644456-b09b-414e-a1a0-8e428f587d2c",
        "colab": {
          "base_uri": "https://localhost:8080/"
        }
      },
      "execution_count": null,
      "outputs": [
        {
          "output_type": "execute_result",
          "data": {
            "text/plain": [
              "array([ 0.,  5., 10.])"
            ]
          },
          "metadata": {},
          "execution_count": 5
        }
      ]
    },
    {
      "cell_type": "code",
      "source": [
        "np.linspace(-5, 10, 11)"
      ],
      "metadata": {
        "colab": {
          "base_uri": "https://localhost:8080/"
        },
        "id": "s-z6BN6GkGB-",
        "outputId": "7d132a5f-9d31-49fc-a2bb-9a241d07e69b"
      },
      "execution_count": null,
      "outputs": [
        {
          "output_type": "execute_result",
          "data": {
            "text/plain": [
              "array([-5. , -3.5, -2. , -0.5,  1. ,  2.5,  4. ,  5.5,  7. ,  8.5, 10. ])"
            ]
          },
          "metadata": {},
          "execution_count": 10
        }
      ]
    },
    {
      "cell_type": "code",
      "source": [
        "np.linspace(0,10,50)"
      ],
      "metadata": {
        "trusted": true,
        "id": "7V8A-veTJC40",
        "outputId": "86bc7e5a-2e2b-4591-ac5d-29cc07813e5a",
        "colab": {
          "base_uri": "https://localhost:8080/"
        }
      },
      "execution_count": null,
      "outputs": [
        {
          "output_type": "execute_result",
          "data": {
            "text/plain": [
              "array([ 0.        ,  0.20408163,  0.40816327,  0.6122449 ,  0.81632653,\n",
              "        1.02040816,  1.2244898 ,  1.42857143,  1.63265306,  1.83673469,\n",
              "        2.04081633,  2.24489796,  2.44897959,  2.65306122,  2.85714286,\n",
              "        3.06122449,  3.26530612,  3.46938776,  3.67346939,  3.87755102,\n",
              "        4.08163265,  4.28571429,  4.48979592,  4.69387755,  4.89795918,\n",
              "        5.10204082,  5.30612245,  5.51020408,  5.71428571,  5.91836735,\n",
              "        6.12244898,  6.32653061,  6.53061224,  6.73469388,  6.93877551,\n",
              "        7.14285714,  7.34693878,  7.55102041,  7.75510204,  7.95918367,\n",
              "        8.16326531,  8.36734694,  8.57142857,  8.7755102 ,  8.97959184,\n",
              "        9.18367347,  9.3877551 ,  9.59183673,  9.79591837, 10.        ])"
            ]
          },
          "metadata": {},
          "execution_count": 13
        }
      ]
    },
    {
      "cell_type": "markdown",
      "source": [
        "### eye\n",
        "\n",
        "Creates an identity matrix"
      ],
      "metadata": {
        "id": "zzG_MQ1KJC40"
      }
    },
    {
      "cell_type": "code",
      "source": [
        "np.eye(4)"
      ],
      "metadata": {
        "trusted": true,
        "id": "CJb8fZINJC40",
        "outputId": "1f3ab730-aa50-46cb-9cdd-695a6ee95923",
        "colab": {
          "base_uri": "https://localhost:8080/"
        }
      },
      "execution_count": null,
      "outputs": [
        {
          "output_type": "execute_result",
          "data": {
            "text/plain": [
              "array([[1., 0., 0., 0.],\n",
              "       [0., 1., 0., 0.],\n",
              "       [0., 0., 1., 0.],\n",
              "       [0., 0., 0., 1.]])"
            ]
          },
          "metadata": {},
          "execution_count": 14
        }
      ]
    },
    {
      "cell_type": "markdown",
      "source": [
        "### Random\n",
        "\n",
        "Numpy also has lots of ways to create random number arrays:\n",
        "\n",
        "### rand\n",
        "Create an array of the given shape and populate it with\n",
        "random samples from a uniform distribution\n",
        "over ``[0, 1]``."
      ],
      "metadata": {
        "id": "NuznRJbgJC41"
      }
    },
    {
      "cell_type": "code",
      "source": [
        "np.random.rand(2)"
      ],
      "metadata": {
        "trusted": true,
        "id": "GeRlC0GAJC41",
        "outputId": "6068e746-497a-4002-f444-3997446f1931",
        "colab": {
          "base_uri": "https://localhost:8080/"
        }
      },
      "execution_count": null,
      "outputs": [
        {
          "output_type": "execute_result",
          "data": {
            "text/plain": [
              "array([0.62304425, 0.39359249])"
            ]
          },
          "metadata": {},
          "execution_count": 8
        }
      ]
    },
    {
      "cell_type": "code",
      "source": [
        "np.random.rand(5,5)"
      ],
      "metadata": {
        "trusted": true,
        "id": "bCv29r6cJC41",
        "outputId": "f2ada89f-3c06-4e73-f92d-e1982727dd8c",
        "colab": {
          "base_uri": "https://localhost:8080/"
        }
      },
      "execution_count": null,
      "outputs": [
        {
          "output_type": "execute_result",
          "data": {
            "text/plain": [
              "array([[0.86587776, 0.70027802, 0.86569166, 0.42634543, 0.95353788],\n",
              "       [0.97519146, 0.48013407, 0.56461148, 0.94941535, 0.4338026 ],\n",
              "       [0.40971612, 0.91825476, 0.70601336, 0.14808135, 0.95376043],\n",
              "       [0.32624883, 0.09542761, 0.33070807, 0.65342989, 0.84928195],\n",
              "       [0.59390268, 0.94913949, 0.15179479, 0.34738836, 0.90698003]])"
            ]
          },
          "metadata": {},
          "execution_count": 9
        }
      ]
    },
    {
      "cell_type": "markdown",
      "source": [
        "### randn\n",
        "\n",
        "Return a sample (or samples) from the \"standard normal\" distribution. Unlike rand which is uniform:"
      ],
      "metadata": {
        "id": "DpV-XtWoJC42"
      }
    },
    {
      "cell_type": "code",
      "source": [
        "np.random.randn(2)"
      ],
      "metadata": {
        "trusted": true,
        "id": "9ohuI6AVJC42",
        "outputId": "50a1ad71-ed0e-4184-bb32-bc695d726426",
        "colab": {
          "base_uri": "https://localhost:8080/"
        }
      },
      "execution_count": null,
      "outputs": [
        {
          "output_type": "execute_result",
          "data": {
            "text/plain": [
              "array([-0.12764669, -0.94331082])"
            ]
          },
          "metadata": {},
          "execution_count": 17
        }
      ]
    },
    {
      "cell_type": "code",
      "source": [
        "np.random.randn(5,5)"
      ],
      "metadata": {
        "trusted": true,
        "id": "9tYuCvJ1JC42",
        "outputId": "feab3735-c298-435d-bf61-83bc9738ece3",
        "colab": {
          "base_uri": "https://localhost:8080/"
        }
      },
      "execution_count": null,
      "outputs": [
        {
          "output_type": "execute_result",
          "data": {
            "text/plain": [
              "array([[ 0.67411245, -0.66260154,  1.15498656, -0.4914281 ,  0.48746096],\n",
              "       [-0.82249222, -1.13262659, -0.13533131,  1.02169714, -1.82850081],\n",
              "       [-0.86147643, -0.29065884,  0.8834237 ,  0.76823075,  1.43973293],\n",
              "       [-1.57281895, -0.04493885, -0.37486083, -0.11932987,  0.36439575],\n",
              "       [-0.10033076, -0.84340635,  1.14021864, -1.5774487 , -1.23097503]])"
            ]
          },
          "metadata": {},
          "execution_count": 18
        }
      ]
    },
    {
      "cell_type": "markdown",
      "source": [
        "### randint\n",
        "Return random integers from `low` (inclusive) to `high` (exclusive)."
      ],
      "metadata": {
        "id": "ri-MHnsrJC42"
      }
    },
    {
      "cell_type": "code",
      "source": [
        "np.random.randint(1,100)"
      ],
      "metadata": {
        "trusted": true,
        "id": "Zb1E5OufJC43",
        "outputId": "7980b110-77ba-4133-9a81-342d1779fc6e",
        "colab": {
          "base_uri": "https://localhost:8080/"
        }
      },
      "execution_count": null,
      "outputs": [
        {
          "output_type": "execute_result",
          "data": {
            "text/plain": [
              "69"
            ]
          },
          "metadata": {},
          "execution_count": 19
        }
      ]
    },
    {
      "cell_type": "code",
      "source": [
        "np.random.randint(1,100,10)"
      ],
      "metadata": {
        "trusted": true,
        "id": "_plezVFiJC43",
        "outputId": "40e5be2d-ce5d-46be-8199-db36d5c0cb6d",
        "colab": {
          "base_uri": "https://localhost:8080/"
        }
      },
      "execution_count": null,
      "outputs": [
        {
          "output_type": "execute_result",
          "data": {
            "text/plain": [
              "array([58, 73, 32, 92, 89, 64, 39, 75, 93, 59])"
            ]
          },
          "metadata": {},
          "execution_count": 20
        }
      ]
    },
    {
      "cell_type": "markdown",
      "source": [
        "# Array Attributes and Methods\n",
        "\n",
        "Let's discuss some useful attributes and methods or an array:"
      ],
      "metadata": {
        "id": "mjlRJTi5JC44"
      }
    },
    {
      "cell_type": "code",
      "source": [
        "arr2 = np.arange(30)\n",
        "ranarr = np.random.randint(0,50,10)"
      ],
      "metadata": {
        "trusted": true,
        "id": "FX6rbAVqJC44"
      },
      "execution_count": null,
      "outputs": []
    },
    {
      "cell_type": "code",
      "source": [
        "arr2"
      ],
      "metadata": {
        "trusted": true,
        "id": "5oZjGY9FJC44",
        "outputId": "daa2b0f7-34ed-4f21-c0db-23fabf3c7739",
        "colab": {
          "base_uri": "https://localhost:8080/"
        }
      },
      "execution_count": null,
      "outputs": [
        {
          "output_type": "execute_result",
          "data": {
            "text/plain": [
              "array([ 0,  1,  2,  3,  4,  5,  6,  7,  8,  9, 10, 11, 12, 13, 14, 15, 16,\n",
              "       17, 18, 19, 20, 21, 22, 23, 24, 25, 26, 27, 28, 29])"
            ]
          },
          "metadata": {},
          "execution_count": 25
        }
      ]
    },
    {
      "cell_type": "code",
      "source": [
        "ranarr"
      ],
      "metadata": {
        "trusted": true,
        "id": "ao7lbst4JC44",
        "outputId": "88c7559f-d84e-4774-bcba-2f162f672a33",
        "colab": {
          "base_uri": "https://localhost:8080/"
        }
      },
      "execution_count": null,
      "outputs": [
        {
          "output_type": "execute_result",
          "data": {
            "text/plain": [
              "array([ 8, 49,  9, 13,  7, 35, 30, 43, 29, 22])"
            ]
          },
          "metadata": {},
          "execution_count": 18
        }
      ]
    },
    {
      "cell_type": "markdown",
      "source": [
        "# Reshape\n",
        "Returns an array containing the same data with a new shape."
      ],
      "metadata": {
        "id": "-Nivhf7_JC45"
      }
    },
    {
      "cell_type": "code",
      "source": [
        "arr2.reshape(3, 10)"
      ],
      "metadata": {
        "trusted": true,
        "id": "VP-OJchLJC5A"
      },
      "execution_count": null,
      "outputs": []
    },
    {
      "cell_type": "code",
      "source": [
        "arr2"
      ],
      "metadata": {
        "colab": {
          "base_uri": "https://localhost:8080/"
        },
        "id": "R9iRHj-0mutY",
        "outputId": "3e490fc5-a7ee-4bba-cc53-2d6c09d6e968"
      },
      "execution_count": null,
      "outputs": [
        {
          "output_type": "execute_result",
          "data": {
            "text/plain": [
              "array([[ 0,  1,  2,  3,  4,  5,  6,  7,  8,  9],\n",
              "       [10, 11, 12, 13, 14, 15, 16, 17, 18, 19],\n",
              "       [20, 21, 22, 23, 24, 25, 26, 27, 28, 29]])"
            ]
          },
          "metadata": {},
          "execution_count": 37
        }
      ]
    },
    {
      "cell_type": "markdown",
      "source": [
        "### max,min,argmax,argmin\n",
        "\n",
        "These are useful methods for finding max or min values. Or to find their index locations using argmin or argmax"
      ],
      "metadata": {
        "id": "WXcKq3xOJC5A"
      }
    },
    {
      "cell_type": "code",
      "source": [
        "ranarr"
      ],
      "metadata": {
        "trusted": true,
        "id": "TTyksB5rJC5B",
        "outputId": "b4abf031-d5d5-426b-a99e-62617ac2a50f",
        "colab": {
          "base_uri": "https://localhost:8080/"
        }
      },
      "execution_count": null,
      "outputs": [
        {
          "output_type": "execute_result",
          "data": {
            "text/plain": [
              "array([45, 24,  3, 18, 36,  1, 45, 31, 28, 14])"
            ]
          },
          "metadata": {},
          "execution_count": 27
        }
      ]
    },
    {
      "cell_type": "code",
      "source": [
        "ranarr.max()"
      ],
      "metadata": {
        "trusted": true,
        "id": "-f6Xe7YxJC5B",
        "outputId": "562c0afb-0261-4933-c97c-ca6e482b002f",
        "colab": {
          "base_uri": "https://localhost:8080/"
        }
      },
      "execution_count": null,
      "outputs": [
        {
          "output_type": "execute_result",
          "data": {
            "text/plain": [
              "45"
            ]
          },
          "metadata": {},
          "execution_count": 28
        }
      ]
    },
    {
      "cell_type": "code",
      "source": [
        "ranarr.argmax()"
      ],
      "metadata": {
        "trusted": true,
        "id": "gu0WmaqXJC5C",
        "outputId": "837d1718-d981-4a05-a5fd-1fec818031cb",
        "colab": {
          "base_uri": "https://localhost:8080/"
        }
      },
      "execution_count": null,
      "outputs": [
        {
          "output_type": "execute_result",
          "data": {
            "text/plain": [
              "0"
            ]
          },
          "metadata": {},
          "execution_count": 29
        }
      ]
    },
    {
      "cell_type": "code",
      "source": [
        "ranarr.min()"
      ],
      "metadata": {
        "trusted": true,
        "id": "yKnhulVUJC5C",
        "outputId": "41fcd599-eee6-4954-c2be-2c39664117b3",
        "colab": {
          "base_uri": "https://localhost:8080/"
        }
      },
      "execution_count": null,
      "outputs": [
        {
          "output_type": "execute_result",
          "data": {
            "text/plain": [
              "1"
            ]
          },
          "metadata": {},
          "execution_count": 30
        }
      ]
    },
    {
      "cell_type": "code",
      "source": [
        "ranarr.argmin()"
      ],
      "metadata": {
        "trusted": true,
        "id": "gbjQmwgEJC5C",
        "outputId": "15875625-ae7e-4c75-a400-1e96818b859c",
        "colab": {
          "base_uri": "https://localhost:8080/"
        }
      },
      "execution_count": null,
      "outputs": [
        {
          "output_type": "execute_result",
          "data": {
            "text/plain": [
              "5"
            ]
          },
          "metadata": {},
          "execution_count": 31
        }
      ]
    },
    {
      "cell_type": "markdown",
      "source": [
        "# Shape\n",
        "\n",
        "Shape is an attribute that arrays have (not a method):"
      ],
      "metadata": {
        "id": "zbnEJpxTJC5C"
      }
    },
    {
      "cell_type": "code",
      "source": [
        "# Vector\n",
        "arr2.shape"
      ],
      "metadata": {
        "trusted": true,
        "id": "1G_8E5PSJC5C",
        "outputId": "b63c8a7f-c9c6-46a3-e48a-17e1438d929b",
        "colab": {
          "base_uri": "https://localhost:8080/"
        }
      },
      "execution_count": null,
      "outputs": [
        {
          "output_type": "execute_result",
          "data": {
            "text/plain": [
              "(3, 10)"
            ]
          },
          "metadata": {},
          "execution_count": 38
        }
      ]
    },
    {
      "cell_type": "code",
      "source": [
        "# Notice the two sets of brackets\n",
        "arr2.reshape(6, 5)"
      ],
      "metadata": {
        "trusted": true,
        "id": "0cztq0eOJC5D",
        "outputId": "6f1b1181-61f6-46a1-eab4-aa153b3c807d",
        "colab": {
          "base_uri": "https://localhost:8080/"
        }
      },
      "execution_count": null,
      "outputs": [
        {
          "output_type": "execute_result",
          "data": {
            "text/plain": [
              "array([[ 0,  1,  2,  3,  4],\n",
              "       [ 5,  6,  7,  8,  9],\n",
              "       [10, 11, 12, 13, 14],\n",
              "       [15, 16, 17, 18, 19],\n",
              "       [20, 21, 22, 23, 24],\n",
              "       [25, 26, 27, 28, 29]])"
            ]
          },
          "metadata": {},
          "execution_count": 40
        }
      ]
    },
    {
      "cell_type": "code",
      "source": [
        "array_shape = arr2.reshape(1,30).shape\n",
        "array_shape"
      ],
      "metadata": {
        "trusted": true,
        "id": "9V-0IgHXJC5D",
        "outputId": "4fb4e735-8eae-4242-aea9-a0aa1690c138",
        "colab": {
          "base_uri": "https://localhost:8080/"
        }
      },
      "execution_count": null,
      "outputs": [
        {
          "output_type": "execute_result",
          "data": {
            "text/plain": [
              "(1, 30)"
            ]
          },
          "metadata": {},
          "execution_count": 42
        }
      ]
    },
    {
      "cell_type": "code",
      "source": [
        "arr2.reshape(30,1)"
      ],
      "metadata": {
        "trusted": true,
        "id": "FBmneEwqJC5D",
        "outputId": "a2286245-1fa0-4764-dfd0-4bfc937c56e7",
        "colab": {
          "base_uri": "https://localhost:8080/"
        }
      },
      "execution_count": null,
      "outputs": [
        {
          "output_type": "execute_result",
          "data": {
            "text/plain": [
              "array([[ 0],\n",
              "       [ 1],\n",
              "       [ 2],\n",
              "       [ 3],\n",
              "       [ 4],\n",
              "       [ 5],\n",
              "       [ 6],\n",
              "       [ 7],\n",
              "       [ 8],\n",
              "       [ 9],\n",
              "       [10],\n",
              "       [11],\n",
              "       [12],\n",
              "       [13],\n",
              "       [14],\n",
              "       [15],\n",
              "       [16],\n",
              "       [17],\n",
              "       [18],\n",
              "       [19],\n",
              "       [20],\n",
              "       [21],\n",
              "       [22],\n",
              "       [23],\n",
              "       [24],\n",
              "       [25],\n",
              "       [26],\n",
              "       [27],\n",
              "       [28],\n",
              "       [29]])"
            ]
          },
          "metadata": {},
          "execution_count": 43
        }
      ]
    },
    {
      "cell_type": "code",
      "source": [
        "arr2.reshape(25,1).shape"
      ],
      "metadata": {
        "trusted": true,
        "id": "yJAoFhitJC5D",
        "outputId": "482dcd6e-2a60-445a-91d7-f4eae62b84d4",
        "colab": {
          "base_uri": "https://localhost:8080/"
        }
      },
      "execution_count": null,
      "outputs": [
        {
          "output_type": "execute_result",
          "data": {
            "text/plain": [
              "(25, 1)"
            ]
          },
          "metadata": {},
          "execution_count": 34
        }
      ]
    },
    {
      "cell_type": "markdown",
      "source": [
        "### dtype\n",
        "\n",
        "You can also grab the data type of the object in the array:"
      ],
      "metadata": {
        "id": "nhJUG2QlJC5D"
      }
    },
    {
      "cell_type": "code",
      "source": [
        "arr2.dtype"
      ],
      "metadata": {
        "trusted": true,
        "id": "nbGHY3s1JC5E",
        "outputId": "3cc4f435-1283-43f0-819e-4511a6ee7bb4",
        "colab": {
          "base_uri": "https://localhost:8080/"
        }
      },
      "execution_count": null,
      "outputs": [
        {
          "output_type": "execute_result",
          "data": {
            "text/plain": [
              "dtype('int64')"
            ]
          },
          "metadata": {},
          "execution_count": 44
        }
      ]
    },
    {
      "cell_type": "markdown",
      "source": [
        "# Numpy Indexing and Selection\n",
        "In this lecture we will discuss how to select elements or groups of elements from an array."
      ],
      "metadata": {
        "id": "tDLiNN7VJC5E"
      }
    },
    {
      "cell_type": "code",
      "source": [
        "import numpy as np"
      ],
      "metadata": {
        "trusted": true,
        "id": "RVJMDIFUJC5E"
      },
      "execution_count": null,
      "outputs": []
    },
    {
      "cell_type": "code",
      "source": [
        "#Creating sample array\n",
        "arr = np.arange(0,11)"
      ],
      "metadata": {
        "trusted": true,
        "id": "GVOh3uk1JC5F"
      },
      "execution_count": null,
      "outputs": []
    },
    {
      "cell_type": "code",
      "source": [
        "#Show\n",
        "arr"
      ],
      "metadata": {
        "trusted": true,
        "id": "RD2vak-eJC5F",
        "outputId": "dbe03b45-b556-4716-9379-2bfa5092d22c",
        "colab": {
          "base_uri": "https://localhost:8080/"
        }
      },
      "execution_count": null,
      "outputs": [
        {
          "output_type": "execute_result",
          "data": {
            "text/plain": [
              "array([ 0,  1,  2,  3,  4,  5,  6,  7,  8,  9, 10])"
            ]
          },
          "metadata": {},
          "execution_count": 47
        }
      ]
    },
    {
      "cell_type": "markdown",
      "source": [
        "# Bracket Indexing and Selection\n",
        "The simplest way to pick one or some elements of an array looks very similar to python lists:"
      ],
      "metadata": {
        "id": "roOshsJWJC5J"
      }
    },
    {
      "cell_type": "code",
      "source": [
        "#Get a value at an index\n",
        "arr[8]"
      ],
      "metadata": {
        "trusted": true,
        "id": "t5jc-vdVJC5J",
        "outputId": "761d93d3-ab68-423a-db4c-ac8e980436e6",
        "colab": {
          "base_uri": "https://localhost:8080/"
        }
      },
      "execution_count": null,
      "outputs": [
        {
          "output_type": "execute_result",
          "data": {
            "text/plain": [
              "8"
            ]
          },
          "metadata": {},
          "execution_count": 48
        }
      ]
    },
    {
      "cell_type": "code",
      "source": [
        "#Get values in a range\n",
        "arr[1:5]"
      ],
      "metadata": {
        "trusted": true,
        "id": "fmktzAzIJC5J",
        "outputId": "b5c0a756-01f4-4736-e187-2dafc0338c9f",
        "colab": {
          "base_uri": "https://localhost:8080/"
        }
      },
      "execution_count": null,
      "outputs": [
        {
          "output_type": "execute_result",
          "data": {
            "text/plain": [
              "array([1, 2, 3, 4])"
            ]
          },
          "metadata": {},
          "execution_count": 49
        }
      ]
    },
    {
      "cell_type": "code",
      "source": [
        "#Get values in a range\n",
        "arr[0:5]"
      ],
      "metadata": {
        "trusted": true,
        "id": "UELea81_JC5K",
        "outputId": "9f1cc9c2-ccd1-4c4f-cf5b-e86b78a5c27c",
        "colab": {
          "base_uri": "https://localhost:8080/"
        }
      },
      "execution_count": null,
      "outputs": [
        {
          "output_type": "execute_result",
          "data": {
            "text/plain": [
              "array([0, 1, 2, 3, 4])"
            ]
          },
          "metadata": {},
          "execution_count": 50
        }
      ]
    },
    {
      "cell_type": "markdown",
      "source": [
        "# Broadcasting\n",
        "\n",
        "Numpy arrays differ from a normal Python list because of their ability to broadcast:"
      ],
      "metadata": {
        "id": "A8q4m_AhJC5K"
      }
    },
    {
      "cell_type": "code",
      "source": [
        "#Setting a value with index range (Broadcasting)\n",
        "arr[0:5]=100\n",
        "\n",
        "#Show\n",
        "arr"
      ],
      "metadata": {
        "trusted": true,
        "id": "ugSoUtMmJC5K",
        "outputId": "abb8688d-12dd-4191-a110-0c02607822e6",
        "colab": {
          "base_uri": "https://localhost:8080/"
        }
      },
      "execution_count": null,
      "outputs": [
        {
          "output_type": "execute_result",
          "data": {
            "text/plain": [
              "array([100, 100, 100, 100, 100,   5,   6,   7,   8,   9,  10])"
            ]
          },
          "metadata": {},
          "execution_count": 51
        }
      ]
    },
    {
      "cell_type": "code",
      "source": [
        "# Reset array, we'll see why I had to reset in  a moment\n",
        "arr = np.arange(0,11)\n",
        "\n",
        "#Show\n",
        "arr"
      ],
      "metadata": {
        "trusted": true,
        "id": "kIDNorDzJC5K",
        "outputId": "673e3619-a2cb-4a8e-fd74-2af091056b7d",
        "colab": {
          "base_uri": "https://localhost:8080/"
        }
      },
      "execution_count": null,
      "outputs": [
        {
          "output_type": "execute_result",
          "data": {
            "text/plain": [
              "array([ 0,  1,  2,  3,  4,  5,  6,  7,  8,  9, 10])"
            ]
          },
          "metadata": {},
          "execution_count": 52
        }
      ]
    },
    {
      "cell_type": "code",
      "source": [
        "#Important notes on Slices\n",
        "slice_of_arr = arr[0:6]\n",
        "\n",
        "#Show slice\n",
        "slice_of_arr"
      ],
      "metadata": {
        "trusted": true,
        "id": "b4xgl929JC5L",
        "outputId": "4ff265aa-3183-4004-898e-3246808b411c",
        "colab": {
          "base_uri": "https://localhost:8080/"
        }
      },
      "execution_count": null,
      "outputs": [
        {
          "output_type": "execute_result",
          "data": {
            "text/plain": [
              "array([0, 1, 2, 3, 4, 5])"
            ]
          },
          "metadata": {},
          "execution_count": 44
        }
      ]
    },
    {
      "cell_type": "code",
      "source": [
        "#Change Slice\n",
        "slice_of_arr[:]=99\n",
        "\n",
        "#Show Slice again\n",
        "slice_of_arr"
      ],
      "metadata": {
        "trusted": true,
        "id": "DtdurjaSJC5L",
        "outputId": "8de683a4-a290-4928-c4e9-d9fcbb997e92",
        "colab": {
          "base_uri": "https://localhost:8080/"
        }
      },
      "execution_count": null,
      "outputs": [
        {
          "output_type": "execute_result",
          "data": {
            "text/plain": [
              "array([99, 99, 99, 99, 99, 99])"
            ]
          },
          "metadata": {},
          "execution_count": 45
        }
      ]
    },
    {
      "cell_type": "code",
      "source": [
        "#Now note the changes also occur in our original array!"
      ],
      "metadata": {
        "trusted": true,
        "id": "gZv08slKJC5L"
      },
      "execution_count": null,
      "outputs": []
    },
    {
      "cell_type": "code",
      "source": [
        "arr"
      ],
      "metadata": {
        "trusted": true,
        "id": "C3K-IOrlJC5L",
        "outputId": "f1bca73b-3c09-4a5f-eae1-445caf8fab05",
        "colab": {
          "base_uri": "https://localhost:8080/"
        }
      },
      "execution_count": null,
      "outputs": [
        {
          "output_type": "execute_result",
          "data": {
            "text/plain": [
              "array([ 0,  1,  2,  3,  4,  5,  6,  7,  8,  9, 10])"
            ]
          },
          "metadata": {},
          "execution_count": 53
        }
      ]
    },
    {
      "cell_type": "code",
      "source": [
        "#Data is not copied, it's a view of the original array! This avoids memory problems!"
      ],
      "metadata": {
        "trusted": true,
        "id": "N_Szea9eJC5M"
      },
      "execution_count": null,
      "outputs": []
    },
    {
      "cell_type": "code",
      "source": [
        "#To get a copy, need to be explicit\n",
        "arr_copy = arr.copy()\n",
        "\n",
        "arr_copy"
      ],
      "metadata": {
        "trusted": true,
        "id": "dTQjYYOKJC5M",
        "outputId": "62da3f47-63d5-405d-f329-4d5db3c9a0b2",
        "colab": {
          "base_uri": "https://localhost:8080/"
        }
      },
      "execution_count": null,
      "outputs": [
        {
          "output_type": "execute_result",
          "data": {
            "text/plain": [
              "array([ 0,  1,  2,  3,  4,  5,  6,  7,  8,  9, 10])"
            ]
          },
          "metadata": {},
          "execution_count": 55
        }
      ]
    },
    {
      "cell_type": "markdown",
      "source": [
        "# Indexing a 2D array (matrices)\n",
        "\n",
        "The general format is **arr_2d[row][col]** or **arr_2d[row,col]**. I recommend usually using the comma notation for clarity."
      ],
      "metadata": {
        "id": "ZOnURU8bJC5M"
      }
    },
    {
      "cell_type": "code",
      "source": [
        "arr_2d = np.array(([5,10,15],[20,25,30],[35,40,45]))\n",
        "\n",
        "#Show\n",
        "arr_2d"
      ],
      "metadata": {
        "trusted": true,
        "id": "4ZZSbl0wJC5N",
        "outputId": "c9c27131-2068-4c23-ca6f-2b99455b4135",
        "colab": {
          "base_uri": "https://localhost:8080/"
        }
      },
      "execution_count": null,
      "outputs": [
        {
          "output_type": "execute_result",
          "data": {
            "text/plain": [
              "array([[ 5, 10, 15],\n",
              "       [20, 25, 30],\n",
              "       [35, 40, 45]])"
            ]
          },
          "metadata": {},
          "execution_count": 56
        }
      ]
    },
    {
      "cell_type": "code",
      "source": [
        "#Indexing row\n",
        "arr_2d[1]\n"
      ],
      "metadata": {
        "trusted": true,
        "id": "cE1Gp5JWJC5O",
        "outputId": "31dbf0d7-e099-4f35-a7a0-507f6f6bb409",
        "colab": {
          "base_uri": "https://localhost:8080/"
        }
      },
      "execution_count": null,
      "outputs": [
        {
          "output_type": "execute_result",
          "data": {
            "text/plain": [
              "array([20, 25, 30])"
            ]
          },
          "metadata": {},
          "execution_count": 57
        }
      ]
    },
    {
      "cell_type": "code",
      "source": [
        "# Format is arr_2d[row][col] or arr_2d[row,col]\n",
        "\n",
        "# Getting individual element value\n",
        "arr_2d[1][0]"
      ],
      "metadata": {
        "trusted": true,
        "id": "14PyNfVQJC5O",
        "outputId": "3f98c979-baac-41c9-88ee-bcbb9d0b8ee7",
        "colab": {
          "base_uri": "https://localhost:8080/"
        }
      },
      "execution_count": null,
      "outputs": [
        {
          "output_type": "execute_result",
          "data": {
            "text/plain": [
              "20"
            ]
          },
          "metadata": {},
          "execution_count": 58
        }
      ]
    },
    {
      "cell_type": "code",
      "source": [
        "# Getting individual element value\n",
        "arr_2d[1,0]"
      ],
      "metadata": {
        "trusted": true,
        "id": "-1g6SIZ-JC5O",
        "outputId": "93dabf75-612d-4d93-98a0-6b50bb750575",
        "colab": {
          "base_uri": "https://localhost:8080/"
        }
      },
      "execution_count": null,
      "outputs": [
        {
          "output_type": "execute_result",
          "data": {
            "text/plain": [
              "20"
            ]
          },
          "metadata": {},
          "execution_count": 59
        }
      ]
    },
    {
      "cell_type": "code",
      "source": [
        "# 2D array slicing\n",
        "\n",
        "#Shape (2,2) from top right corner\n",
        "arr_2d[:2,1:]"
      ],
      "metadata": {
        "trusted": true,
        "id": "0agxhGDiJC5O",
        "outputId": "ba4f255c-ace3-45d3-955c-bf714526dc2e",
        "colab": {
          "base_uri": "https://localhost:8080/"
        }
      },
      "execution_count": null,
      "outputs": [
        {
          "output_type": "execute_result",
          "data": {
            "text/plain": [
              "array([[10, 15],\n",
              "       [25, 30]])"
            ]
          },
          "metadata": {},
          "execution_count": 60
        }
      ]
    },
    {
      "cell_type": "code",
      "source": [
        "#Shape bottom row\n",
        "arr_2d[2]"
      ],
      "metadata": {
        "trusted": true,
        "id": "zyv17_y5JC5P",
        "outputId": "b0e55a14-7e64-4008-81c3-2c1aeb845c59",
        "colab": {
          "base_uri": "https://localhost:8080/"
        }
      },
      "execution_count": null,
      "outputs": [
        {
          "output_type": "execute_result",
          "data": {
            "text/plain": [
              "array([35, 40, 45])"
            ]
          },
          "metadata": {},
          "execution_count": 55
        }
      ]
    },
    {
      "cell_type": "code",
      "source": [
        "#Shape bottom row\n",
        "arr_2d[2,:]"
      ],
      "metadata": {
        "trusted": true,
        "id": "vAVBl0bkJC5P",
        "outputId": "eb40bfc1-baa4-4a39-93e2-9457ce2416c1",
        "colab": {
          "base_uri": "https://localhost:8080/"
        }
      },
      "execution_count": null,
      "outputs": [
        {
          "output_type": "execute_result",
          "data": {
            "text/plain": [
              "array([35, 40, 45])"
            ]
          },
          "metadata": {},
          "execution_count": 56
        }
      ]
    },
    {
      "cell_type": "markdown",
      "source": [
        "# Fancy Indexing\n",
        "\n",
        "Fancy indexing allows you to select entire rows or columns out of order,to show this, let's quickly build out a numpy array:"
      ],
      "metadata": {
        "id": "Y-el6O-QJC5P"
      }
    },
    {
      "cell_type": "code",
      "source": [
        "#Set up matrix\n",
        "arr2d = np.zeros((10,10))\n",
        "arr2d"
      ],
      "metadata": {
        "trusted": true,
        "id": "xV3KZPstJC5Q",
        "colab": {
          "base_uri": "https://localhost:8080/"
        },
        "outputId": "7a2b166e-cfde-49b8-bf7d-59517709ca6d"
      },
      "execution_count": null,
      "outputs": [
        {
          "output_type": "execute_result",
          "data": {
            "text/plain": [
              "array([[0., 0., 0., 0., 0., 0., 0., 0., 0., 0.],\n",
              "       [0., 0., 0., 0., 0., 0., 0., 0., 0., 0.],\n",
              "       [0., 0., 0., 0., 0., 0., 0., 0., 0., 0.],\n",
              "       [0., 0., 0., 0., 0., 0., 0., 0., 0., 0.],\n",
              "       [0., 0., 0., 0., 0., 0., 0., 0., 0., 0.],\n",
              "       [0., 0., 0., 0., 0., 0., 0., 0., 0., 0.],\n",
              "       [0., 0., 0., 0., 0., 0., 0., 0., 0., 0.],\n",
              "       [0., 0., 0., 0., 0., 0., 0., 0., 0., 0.],\n",
              "       [0., 0., 0., 0., 0., 0., 0., 0., 0., 0.],\n",
              "       [0., 0., 0., 0., 0., 0., 0., 0., 0., 0.]])"
            ]
          },
          "metadata": {},
          "execution_count": 62
        }
      ]
    },
    {
      "cell_type": "code",
      "source": [
        "#Length of array\n",
        "arr_length = arr2d.shape[1]\n",
        "arr_length"
      ],
      "metadata": {
        "trusted": true,
        "id": "wdSHRlbyJC5Q",
        "colab": {
          "base_uri": "https://localhost:8080/"
        },
        "outputId": "1d416bd2-aee8-49e0-d21b-a01e36065066"
      },
      "execution_count": null,
      "outputs": [
        {
          "output_type": "execute_result",
          "data": {
            "text/plain": [
              "10"
            ]
          },
          "metadata": {},
          "execution_count": 63
        }
      ]
    },
    {
      "cell_type": "code",
      "source": [
        "#Set up array\n",
        "\n",
        "for i in range(arr_length):\n",
        "    arr2d[i] = i\n",
        "\n",
        "arr2d"
      ],
      "metadata": {
        "trusted": true,
        "id": "zbFOBr8PJC5Q",
        "outputId": "c12255b6-5ecb-4cf6-8dfe-cdc77b03d897",
        "colab": {
          "base_uri": "https://localhost:8080/"
        }
      },
      "execution_count": null,
      "outputs": [
        {
          "output_type": "execute_result",
          "data": {
            "text/plain": [
              "array([[0., 0., 0., 0., 0., 0., 0., 0., 0., 0.],\n",
              "       [1., 1., 1., 1., 1., 1., 1., 1., 1., 1.],\n",
              "       [2., 2., 2., 2., 2., 2., 2., 2., 2., 2.],\n",
              "       [3., 3., 3., 3., 3., 3., 3., 3., 3., 3.],\n",
              "       [4., 4., 4., 4., 4., 4., 4., 4., 4., 4.],\n",
              "       [5., 5., 5., 5., 5., 5., 5., 5., 5., 5.],\n",
              "       [6., 6., 6., 6., 6., 6., 6., 6., 6., 6.],\n",
              "       [7., 7., 7., 7., 7., 7., 7., 7., 7., 7.],\n",
              "       [8., 8., 8., 8., 8., 8., 8., 8., 8., 8.],\n",
              "       [9., 9., 9., 9., 9., 9., 9., 9., 9., 9.]])"
            ]
          },
          "metadata": {},
          "execution_count": 64
        }
      ]
    },
    {
      "cell_type": "code",
      "source": [
        "#Fancy indexing allows the following"
      ],
      "metadata": {
        "trusted": true,
        "id": "04shUOooJC5R"
      },
      "execution_count": null,
      "outputs": []
    },
    {
      "cell_type": "code",
      "source": [
        "arr2d[[2,4,6,8]]"
      ],
      "metadata": {
        "trusted": true,
        "id": "J9A75w3KJC5R",
        "outputId": "ca743a00-8bb5-4062-afe3-8d729eeab374",
        "colab": {
          "base_uri": "https://localhost:8080/"
        }
      },
      "execution_count": null,
      "outputs": [
        {
          "output_type": "execute_result",
          "data": {
            "text/plain": [
              "array([[2., 2., 2., 2., 2., 2., 2., 2., 2., 2.],\n",
              "       [4., 4., 4., 4., 4., 4., 4., 4., 4., 4.],\n",
              "       [6., 6., 6., 6., 6., 6., 6., 6., 6., 6.],\n",
              "       [8., 8., 8., 8., 8., 8., 8., 8., 8., 8.]])"
            ]
          },
          "metadata": {},
          "execution_count": 65
        }
      ]
    },
    {
      "cell_type": "code",
      "source": [
        "#Allows in any order\n",
        "arr2d[[6,4,2,7]]"
      ],
      "metadata": {
        "trusted": true,
        "id": "8GhqgSbKJC5S",
        "outputId": "3c7e8c0a-99c5-4ff8-b694-d5a3770d6bbe",
        "colab": {
          "base_uri": "https://localhost:8080/"
        }
      },
      "execution_count": null,
      "outputs": [
        {
          "output_type": "execute_result",
          "data": {
            "text/plain": [
              "array([[6., 6., 6., 6., 6., 6., 6., 6., 6., 6.],\n",
              "       [4., 4., 4., 4., 4., 4., 4., 4., 4., 4.],\n",
              "       [2., 2., 2., 2., 2., 2., 2., 2., 2., 2.],\n",
              "       [7., 7., 7., 7., 7., 7., 7., 7., 7., 7.]])"
            ]
          },
          "metadata": {},
          "execution_count": 66
        }
      ]
    },
    {
      "cell_type": "markdown",
      "source": [
        "# Selection\n",
        "\n",
        "Let's briefly go over how to use brackets for selection based off of comparison operators."
      ],
      "metadata": {
        "id": "rQHHW38zJC5S"
      }
    },
    {
      "cell_type": "code",
      "source": [
        "arr = np.arange(1,11)\n",
        "arr"
      ],
      "metadata": {
        "trusted": true,
        "id": "-DcUIQUWJC5S",
        "outputId": "b73505f8-d682-47cd-b1cf-c446d281ec0b",
        "colab": {
          "base_uri": "https://localhost:8080/"
        }
      },
      "execution_count": null,
      "outputs": [
        {
          "output_type": "execute_result",
          "data": {
            "text/plain": [
              "array([ 1,  2,  3,  4,  5,  6,  7,  8,  9, 10])"
            ]
          },
          "metadata": {},
          "execution_count": 67
        }
      ]
    },
    {
      "cell_type": "code",
      "source": [
        "arr > 4"
      ],
      "metadata": {
        "trusted": true,
        "id": "d7KLMzznJC5S",
        "outputId": "df11c75e-f696-4ba1-a705-08caafdc9acd",
        "colab": {
          "base_uri": "https://localhost:8080/"
        }
      },
      "execution_count": null,
      "outputs": [
        {
          "output_type": "execute_result",
          "data": {
            "text/plain": [
              "array([False, False, False, False,  True,  True,  True,  True,  True,\n",
              "        True])"
            ]
          },
          "metadata": {},
          "execution_count": 68
        }
      ]
    },
    {
      "cell_type": "code",
      "source": [
        "bool_arr = arr>4"
      ],
      "metadata": {
        "trusted": true,
        "id": "H_Kr1i4uJC5T"
      },
      "execution_count": null,
      "outputs": []
    },
    {
      "cell_type": "code",
      "source": [
        "bool_arr"
      ],
      "metadata": {
        "trusted": true,
        "id": "tsg8paUyJC5T",
        "outputId": "d0fb4be7-52e1-42bb-9197-1f343664903b",
        "colab": {
          "base_uri": "https://localhost:8080/"
        }
      },
      "execution_count": null,
      "outputs": [
        {
          "output_type": "execute_result",
          "data": {
            "text/plain": [
              "array([False, False, False, False,  True,  True,  True,  True,  True,\n",
              "        True])"
            ]
          },
          "metadata": {},
          "execution_count": 70
        }
      ]
    },
    {
      "cell_type": "code",
      "source": [
        "arr[bool_arr]"
      ],
      "metadata": {
        "trusted": true,
        "id": "WU5f7yyHJC5T",
        "outputId": "8f4972e9-23c6-4d8a-b12e-7d2d2efcbb7e",
        "colab": {
          "base_uri": "https://localhost:8080/"
        }
      },
      "execution_count": null,
      "outputs": [
        {
          "output_type": "execute_result",
          "data": {
            "text/plain": [
              "array([ 5,  6,  7,  8,  9, 10])"
            ]
          },
          "metadata": {},
          "execution_count": 71
        }
      ]
    },
    {
      "cell_type": "code",
      "source": [
        "arr[arr>2]"
      ],
      "metadata": {
        "trusted": true,
        "id": "KXVYuj_mJC5T",
        "outputId": "0616a1cd-eb0a-44e7-895b-8b514be8edaf",
        "colab": {
          "base_uri": "https://localhost:8080/"
        }
      },
      "execution_count": null,
      "outputs": [
        {
          "output_type": "execute_result",
          "data": {
            "text/plain": [
              "array([ 3,  4,  5,  6,  7,  8,  9, 10])"
            ]
          },
          "metadata": {},
          "execution_count": 72
        }
      ]
    },
    {
      "cell_type": "code",
      "source": [
        "arr[arr<5]"
      ],
      "metadata": {
        "colab": {
          "base_uri": "https://localhost:8080/"
        },
        "id": "OIbfla2UrWMU",
        "outputId": "b240a858-9601-46c8-dc17-85e8a31c7915"
      },
      "execution_count": null,
      "outputs": [
        {
          "output_type": "execute_result",
          "data": {
            "text/plain": [
              "array([1, 2, 3, 4])"
            ]
          },
          "metadata": {},
          "execution_count": 73
        }
      ]
    },
    {
      "cell_type": "code",
      "source": [
        "x = 2\n",
        "arr[arr>x]"
      ],
      "metadata": {
        "trusted": true,
        "id": "wTHjvanmJC5T",
        "outputId": "ffebfc5e-f11e-4554-dccc-2b1d30693b3d",
        "colab": {
          "base_uri": "https://localhost:8080/"
        }
      },
      "execution_count": null,
      "outputs": [
        {
          "output_type": "execute_result",
          "data": {
            "text/plain": [
              "array([ 3,  4,  5,  6,  7,  8,  9, 10])"
            ]
          },
          "metadata": {},
          "execution_count": 74
        }
      ]
    },
    {
      "cell_type": "markdown",
      "source": [
        "# NumPy Operations"
      ],
      "metadata": {
        "id": "3vEjhZamJC5U"
      }
    },
    {
      "cell_type": "markdown",
      "source": [
        "## Arithmetic\n",
        "You can easily perform array with array arithmetic, or scalar with array arithmetic. Let's see some examples:"
      ],
      "metadata": {
        "id": "HjsDSg4EJC5U"
      }
    },
    {
      "cell_type": "code",
      "source": [
        "import numpy as np\n",
        "arr = np.arange(0,10)\n",
        "arr"
      ],
      "metadata": {
        "trusted": true,
        "id": "oJLZbM5wJC5U",
        "colab": {
          "base_uri": "https://localhost:8080/"
        },
        "outputId": "8a83e40b-df08-4f26-f43e-3e60ca58d494"
      },
      "execution_count": null,
      "outputs": [
        {
          "output_type": "execute_result",
          "data": {
            "text/plain": [
              "array([0, 1, 2, 3, 4, 5, 6, 7, 8, 9])"
            ]
          },
          "metadata": {},
          "execution_count": 75
        }
      ]
    },
    {
      "cell_type": "code",
      "source": [
        "arr + arr"
      ],
      "metadata": {
        "trusted": true,
        "id": "lCJpLHUIJC5U",
        "outputId": "3a310fba-3f7e-4f2c-ba68-d31fa8a4e991",
        "colab": {
          "base_uri": "https://localhost:8080/"
        }
      },
      "execution_count": null,
      "outputs": [
        {
          "output_type": "execute_result",
          "data": {
            "text/plain": [
              "array([ 0,  2,  4,  6,  8, 10, 12, 14, 16, 18])"
            ]
          },
          "metadata": {},
          "execution_count": 76
        }
      ]
    },
    {
      "cell_type": "code",
      "source": [
        "arr * arr"
      ],
      "metadata": {
        "trusted": true,
        "id": "7So86WHLJC5V",
        "outputId": "3f7bb468-4714-4bd4-c0bc-dfd59ab7c3c7",
        "colab": {
          "base_uri": "https://localhost:8080/"
        }
      },
      "execution_count": null,
      "outputs": [
        {
          "output_type": "execute_result",
          "data": {
            "text/plain": [
              "array([ 0,  1,  4,  9, 16, 25, 36, 49, 64, 81])"
            ]
          },
          "metadata": {},
          "execution_count": 77
        }
      ]
    },
    {
      "cell_type": "code",
      "source": [
        "arr - arr"
      ],
      "metadata": {
        "trusted": true,
        "id": "1DjIsSVFJC5V",
        "outputId": "9dad2515-3760-46d6-b74d-a26ef7fe485e",
        "colab": {
          "base_uri": "https://localhost:8080/"
        }
      },
      "execution_count": null,
      "outputs": [
        {
          "output_type": "execute_result",
          "data": {
            "text/plain": [
              "array([0, 0, 0, 0, 0, 0, 0, 0, 0, 0])"
            ]
          },
          "metadata": {},
          "execution_count": 78
        }
      ]
    },
    {
      "cell_type": "code",
      "source": [
        "# Warning on division by zero, but not an error!\n",
        "# Just replaced with nan\n",
        "arr/arr"
      ],
      "metadata": {
        "trusted": true,
        "id": "CuZEKB1hJC5V",
        "outputId": "ea92cc66-a90d-43b5-a88b-b72f0ea79fa6",
        "colab": {
          "base_uri": "https://localhost:8080/"
        }
      },
      "execution_count": null,
      "outputs": [
        {
          "output_type": "stream",
          "name": "stderr",
          "text": [
            "<ipython-input-79-2f119c028196>:3: RuntimeWarning: invalid value encountered in divide\n",
            "  arr/arr\n"
          ]
        },
        {
          "output_type": "execute_result",
          "data": {
            "text/plain": [
              "array([nan,  1.,  1.,  1.,  1.,  1.,  1.,  1.,  1.,  1.])"
            ]
          },
          "metadata": {},
          "execution_count": 79
        }
      ]
    },
    {
      "cell_type": "code",
      "source": [
        "# Also warning, but not an error instead infinity\n",
        "1/arr"
      ],
      "metadata": {
        "trusted": true,
        "id": "oekRYAL8JC5V",
        "outputId": "029e4c0c-9155-4fac-d1b3-057ded3a2efc",
        "colab": {
          "base_uri": "https://localhost:8080/"
        }
      },
      "execution_count": null,
      "outputs": [
        {
          "output_type": "stream",
          "name": "stderr",
          "text": [
            "<ipython-input-82-c81c9b6169c9>:2: RuntimeWarning: divide by zero encountered in divide\n",
            "  1/arr\n"
          ]
        },
        {
          "output_type": "execute_result",
          "data": {
            "text/plain": [
              "array([       inf, 1.        , 0.5       , 0.33333333, 0.25      ,\n",
              "       0.2       , 0.16666667, 0.14285714, 0.125     , 0.11111111])"
            ]
          },
          "metadata": {},
          "execution_count": 82
        }
      ]
    },
    {
      "cell_type": "code",
      "source": [
        "arr**3"
      ],
      "metadata": {
        "trusted": true,
        "id": "xf90QjX_JC5V",
        "outputId": "d925b585-fea6-403d-a6bc-83fa426b9d41",
        "colab": {
          "base_uri": "https://localhost:8080/"
        }
      },
      "execution_count": null,
      "outputs": [
        {
          "output_type": "execute_result",
          "data": {
            "text/plain": [
              "array([  0,   1,   8,  27,  64, 125, 216, 343, 512, 729])"
            ]
          },
          "metadata": {},
          "execution_count": 83
        }
      ]
    },
    {
      "cell_type": "markdown",
      "source": [
        "## Universal Array Functions\n",
        "\n",
        "Numpy comes with many [universal array functions](http://docs.scipy.org/doc/numpy/reference/ufuncs.html), which are essentially just mathematical operations you can use to perform the operation across the array. Let's show some common ones:"
      ],
      "metadata": {
        "id": "vw8NY3gbJC5W"
      }
    },
    {
      "cell_type": "code",
      "source": [
        "#Taking Square Roots\n",
        "np.sqrt(arr)"
      ],
      "metadata": {
        "trusted": true,
        "id": "-cFNsoHSJC5W",
        "outputId": "f70f2840-b182-4579-bd56-afda681ef98b",
        "colab": {
          "base_uri": "https://localhost:8080/"
        }
      },
      "execution_count": null,
      "outputs": [
        {
          "output_type": "execute_result",
          "data": {
            "text/plain": [
              "array([0.        , 1.        , 1.41421356, 1.73205081, 2.        ,\n",
              "       2.23606798, 2.44948974, 2.64575131, 2.82842712, 3.        ])"
            ]
          },
          "metadata": {},
          "execution_count": 84
        }
      ]
    },
    {
      "cell_type": "code",
      "source": [
        "#Calcualting exponential (e^)\n",
        "np.exp(arr)"
      ],
      "metadata": {
        "trusted": true,
        "id": "1q50fqa-JC5W",
        "outputId": "da9e59c9-8344-4e1b-8102-79700eae254d",
        "colab": {
          "base_uri": "https://localhost:8080/"
        }
      },
      "execution_count": null,
      "outputs": [
        {
          "output_type": "execute_result",
          "data": {
            "text/plain": [
              "array([1.00000000e+00, 2.71828183e+00, 7.38905610e+00, 2.00855369e+01,\n",
              "       5.45981500e+01, 1.48413159e+02, 4.03428793e+02, 1.09663316e+03,\n",
              "       2.98095799e+03, 8.10308393e+03])"
            ]
          },
          "metadata": {},
          "execution_count": 85
        }
      ]
    },
    {
      "cell_type": "code",
      "source": [
        "np.max(arr) #same as arr.max()"
      ],
      "metadata": {
        "trusted": true,
        "id": "bhSA_E0LJC5W",
        "outputId": "28eda153-1125-4d27-bada-ae2a7447f76a",
        "colab": {
          "base_uri": "https://localhost:8080/"
        }
      },
      "execution_count": null,
      "outputs": [
        {
          "output_type": "execute_result",
          "data": {
            "text/plain": [
              "9"
            ]
          },
          "metadata": {},
          "execution_count": 86
        }
      ]
    },
    {
      "cell_type": "code",
      "source": [
        "np.sin(arr)"
      ],
      "metadata": {
        "trusted": true,
        "id": "UkbGPkx4JC5W",
        "outputId": "52a4b73c-41e9-4cf3-f34a-5602e213515d",
        "colab": {
          "base_uri": "https://localhost:8080/"
        }
      },
      "execution_count": null,
      "outputs": [
        {
          "output_type": "execute_result",
          "data": {
            "text/plain": [
              "array([ 0.        ,  0.84147098,  0.90929743,  0.14112001, -0.7568025 ,\n",
              "       -0.95892427, -0.2794155 ,  0.6569866 ,  0.98935825,  0.41211849])"
            ]
          },
          "metadata": {},
          "execution_count": 87
        }
      ]
    },
    {
      "cell_type": "code",
      "source": [
        "np.log(arr)"
      ],
      "metadata": {
        "trusted": true,
        "id": "S9yPcsKtJC5X",
        "outputId": "518f7897-6fec-4e8c-e1d1-b3d80f2689ac",
        "colab": {
          "base_uri": "https://localhost:8080/"
        }
      },
      "execution_count": null,
      "outputs": [
        {
          "output_type": "stream",
          "name": "stderr",
          "text": [
            "<ipython-input-88-a67b4ae04e95>:1: RuntimeWarning: divide by zero encountered in log\n",
            "  np.log(arr)\n"
          ]
        },
        {
          "output_type": "execute_result",
          "data": {
            "text/plain": [
              "array([      -inf, 0.        , 0.69314718, 1.09861229, 1.38629436,\n",
              "       1.60943791, 1.79175947, 1.94591015, 2.07944154, 2.19722458])"
            ]
          },
          "metadata": {},
          "execution_count": 88
        }
      ]
    },
    {
      "cell_type": "markdown",
      "source": [
        " # Thanks !!\n",
        "That's all we need to know for now!"
      ],
      "metadata": {
        "id": "WSgQhhJeJC5X"
      }
    }
  ]
}